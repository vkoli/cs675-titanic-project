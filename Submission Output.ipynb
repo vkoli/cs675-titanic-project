{
 "cells": [
  {
   "cell_type": "code",
   "execution_count": 1,
   "id": "8680babd",
   "metadata": {},
   "outputs": [],
   "source": [
    "import pandas as pd\n",
    "import numpy as np\n",
    "import string\n",
    "import xgboost as xgb"
   ]
  },
  {
   "cell_type": "code",
   "execution_count": 2,
   "id": "c795830f",
   "metadata": {},
   "outputs": [],
   "source": [
    "train = pd.read_csv('train.csv')\n",
    "test = pd.read_csv('test.csv')"
   ]
  },
  {
   "cell_type": "markdown",
   "id": "d7715a7f",
   "metadata": {},
   "source": [
    "# Feature Engineering"
   ]
  },
  {
   "cell_type": "code",
   "execution_count": 3,
   "id": "c8ed4d84",
   "metadata": {},
   "outputs": [],
   "source": [
    "def get_title(x):\n",
    "    name_parts = x.split(',')\n",
    "    title = name_parts[1].split('.')[0].strip()\n",
    "    return title\n",
    "\n",
    "train['Title'] = train['Name'].map(lambda x: get_title(x))\n",
    "\n",
    "train.loc[train['Title'] == 'Don', 'Title'] = 'Mr'\n",
    "train.loc[train['Title'] == 'Major', 'Title'] = 'Mr'\n",
    "train.loc[train['Title'] == 'Capt', 'Title'] = 'Mr'\n",
    "train.loc[train['Title'] == 'Jonkheer', 'Title'] = 'Mr'\n",
    "train.loc[train['Title'] == 'Rev', 'Title'] = 'Mr'\n",
    "train.loc[train['Title'] == 'Col', 'Title'] = 'Mr'\n",
    "train.loc[train['Title'] == 'Countess', 'Title'] = 'Mrs'\n",
    "train.loc[train['Title'] == 'Mme', 'Title'] = 'Mrs'\n",
    "train.loc[train['Title'] == 'Mlle', 'Title'] = 'Miss'\n",
    "train.loc[train['Title'] == 'Ms', 'Title'] = 'Miss'\n",
    "train.loc[(train['Title'] == 'Dr') & (train['Sex'] == 'male'), 'Title'] = 'Mr'\n",
    "train.loc[(train['Title'] == 'Dr') & (train['Sex'] == 'female'), 'Title'] = 'Mrs'\n",
    "train.loc[train['Title'] == 'the Countess', 'Title'] = 'Mrs'\n",
    "train.loc[train['Title'] == 'Lady', 'Title'] = 'Miss'\n",
    "train.loc[train['Title'] == 'Sir', 'Title'] = 'Mr'\n",
    "\n",
    "test['Title'] = test['Name'].map(lambda x: get_title(x))\n",
    "\n",
    "test.loc[test['Title'] == 'Don', 'Title'] = 'Mr'\n",
    "test.loc[test['Title'] == 'Major', 'Title'] = 'Mr'\n",
    "test.loc[test['Title'] == 'Capt', 'Title'] = 'Mr'\n",
    "test.loc[test['Title'] == 'Jonkheer', 'Title'] = 'Mr'\n",
    "test.loc[test['Title'] == 'Rev', 'Title'] = 'Mr'\n",
    "test.loc[test['Title'] == 'Col', 'Title'] = 'Mr'\n",
    "test.loc[test['Title'] == 'Countess', 'Title'] = 'Mrs'\n",
    "test.loc[test['Title'] == 'Mme', 'Title'] = 'Mrs'\n",
    "test.loc[test['Title'] == 'Mlle', 'Title'] = 'Miss'\n",
    "test.loc[test['Title']== 'Ms', 'Title'] = 'Miss'\n",
    "test.loc[(test['Title'] == 'Dr') & (test['Sex'] == 'male'), 'Title'] = 'Mr'\n",
    "test.loc[(test['Title'] == 'Dr') & (test['Sex'] == 'female'), 'Title'] = 'Mrs'\n",
    "test.loc[test['Title'] == 'the Countess', 'Title'] = 'Mrs'\n",
    "test.loc[test['Title'] == 'Lady', 'Title'] = 'Miss'\n",
    "test.loc[test['Title'] == 'Sir', 'Title'] = 'Mr'"
   ]
  },
  {
   "cell_type": "code",
   "execution_count": 4,
   "id": "f40e192c",
   "metadata": {},
   "outputs": [],
   "source": [
    "train['Age'] = train['Age'].fillna(train['Age'].median())\n",
    "\n",
    "train.loc[train.Age <= 1.0, 'age_bins'] = '1s'\n",
    "train.loc[(train['Age'] > 1.0) & (train['Age'] <= 5.0), 'age_bins'] = '5s'\n",
    "train.loc[(train['Age'] > 5.0) & (train['Age'] <= 10.0), 'age_bins'] = '10s'\n",
    "train.loc[(train['Age'] > 10.0) & (train['Age'] <= 15.0), 'age_bins'] = '15s'\n",
    "train.loc[(train['Age'] > 15.0) & (train['Age'] <= 20.0), 'age_bins'] = '20s'\n",
    "train.loc[(train['Age'] > 20.0) & (train['Age'] <= 25.0), 'age_bins'] = '25s'\n",
    "train.loc[(train['Age'] > 25.0) & (train['Age'] <= 30.0), 'age_bins'] = '30s'\n",
    "train.loc[(train['Age'] > 30.0) & (train['Age'] <= 35.0), 'age_bins'] = '35s'\n",
    "train.loc[(train['Age'] > 35.0) & (train['Age'] <= 40.0), 'age_bins'] = '40s'\n",
    "train.loc[(train['Age'] > 40.0) & (train['Age'] <= 45.0), 'age_bins'] = '45s'\n",
    "train.loc[(train['Age'] > 45.0) & (train['Age'] <= 50.0), 'age_bins'] = '50s'\n",
    "train.loc[(train['Age'] > 50.0) & (train['Age'] <= 55.0), 'age_bins'] = '55s'\n",
    "train.loc[(train['Age'] > 55.0), 'age_bins'] = '60s'\n",
    "\n",
    "test['Age'] = test['Age'].fillna(test['Age'].median())\n",
    "\n",
    "test.loc[test.Age <= 1.0, 'age_bins'] = '1s'\n",
    "test.loc[(test['Age'] > 1.0) & (test['Age'] <= 5.0), 'age_bins'] = '5s'\n",
    "test.loc[(test['Age'] > 5.0) & (test['Age'] <= 10.0), 'age_bins'] = '10s'\n",
    "test.loc[(test['Age'] > 10.0) & (test['Age'] <= 15.0), 'age_bins'] = '15s'\n",
    "test.loc[(test['Age'] > 15.0) & (test['Age'] <= 20.0), 'age_bins'] = '20s'\n",
    "test.loc[(test['Age'] > 20.0) & (test['Age'] <= 25.0), 'age_bins'] = '25s'\n",
    "test.loc[(test['Age'] > 25.0) & (test['Age'] <= 30.0), 'age_bins'] = '30s'\n",
    "test.loc[(test['Age'] > 30.0) & (test['Age'] <= 35.0), 'age_bins'] = '35s'\n",
    "test.loc[(test['Age'] > 35.0) & (test['Age'] <= 40.0), 'age_bins'] = '40s'\n",
    "test.loc[(test['Age'] > 40.0) & (test['Age'] <= 45.0), 'age_bins'] = '45s'\n",
    "test.loc[(test['Age'] > 45.0) & (test['Age'] <= 50.0), 'age_bins'] = '50s'\n",
    "test.loc[(test['Age'] > 50.0) & (test['Age'] <= 55.0), 'age_bins'] = '55s'\n",
    "test.loc[(test['Age'] > 55.0), 'age_bins'] = '60s'"
   ]
  },
  {
   "cell_type": "code",
   "execution_count": 5,
   "id": "55f932d4",
   "metadata": {},
   "outputs": [],
   "source": [
    "train['relative_size'] = train['SibSp'] + train['Parch']\n",
    "train.loc[train['relative_size'] > 0, 'travelled_alone'] = 0 #No\n",
    "train.loc[train['relative_size'] == 0, 'travelled_alone'] = 1 #Yes\n",
    "\n",
    "test['relative_size'] = test['SibSp'] + test['Parch']\n",
    "test.loc[test['relative_size'] > 0, 'travelled_alone'] = 0 #No\n",
    "test.loc[test['relative_size'] == 0, 'travelled_alone'] = 1 #Yes"
   ]
  },
  {
   "cell_type": "code",
   "execution_count": 6,
   "id": "da4dbfd7",
   "metadata": {},
   "outputs": [
    {
     "name": "stderr",
     "output_type": "stream",
     "text": [
      "B:\\Anaconda\\lib\\site-packages\\pandas\\core\\indexing.py:1637: SettingWithCopyWarning: \n",
      "A value is trying to be set on a copy of a slice from a DataFrame\n",
      "\n",
      "See the caveats in the documentation: https://pandas.pydata.org/pandas-docs/stable/user_guide/indexing.html#returning-a-view-versus-a-copy\n",
      "  self._setitem_single_block(indexer, value, name)\n"
     ]
    }
   ],
   "source": [
    "train['Cabin'].loc[~train['Cabin'].isnull()] = 1  \n",
    "train['Cabin'].loc[train['Cabin'].isnull()] = 0 \n",
    "\n",
    "test['Cabin'].loc[~test['Cabin'].isnull()] = 1  \n",
    "test['Cabin'].loc[test['Cabin'].isnull()] = 0 "
   ]
  },
  {
   "cell_type": "code",
   "execution_count": 7,
   "id": "9b8a7ed0",
   "metadata": {},
   "outputs": [],
   "source": [
    "train['Embarked'] = train['Embarked'].fillna('S')\n",
    "\n",
    "test['Embarked'] = test['Embarked'].fillna('S')"
   ]
  },
  {
   "cell_type": "code",
   "execution_count": 8,
   "id": "b07d30eb",
   "metadata": {},
   "outputs": [],
   "source": [
    "train_Q1 = train['Fare'].quantile(0.25)\n",
    "train_Q3 = train['Fare'].quantile(0.75)\n",
    "train_IQR = train_Q3 - train_Q1\n",
    "\n",
    "test_Q1 = test['Fare'].quantile(0.25)\n",
    "test_Q3 = test['Fare'].quantile(0.75)\n",
    "test_IQR = test_Q3 - test_Q1\n",
    "\n",
    "train_lower_lim = train_Q1 - 1.5 * train_IQR\n",
    "train_upper_lim = train_Q3 + 1.5 * train_IQR\n",
    "\n",
    "test_lower_lim = test_Q1 - 1.5 * test_IQR\n",
    "test_upper_lim = test_Q3 + 1.5 * test_IQR\n",
    "\n",
    "train.loc[train['Fare'] > train_upper_lim, 'Fare'] = train_upper_lim\n",
    "test.loc[test['Fare'] > test_upper_lim, 'Fare'] = test_upper_lim\n",
    "test['Fare'] = test['Fare'].fillna(test['Fare'].mean())"
   ]
  },
  {
   "cell_type": "code",
   "execution_count": 9,
   "id": "3b0eb74a",
   "metadata": {},
   "outputs": [],
   "source": [
    "train = train.drop(['PassengerId', 'Ticket', 'Name', 'Age'], axis=1)\n",
    "\n",
    "train['travelled_alone'] = train['travelled_alone'].astype(int)\n",
    "\n",
    "test = test.drop(['PassengerId', 'Ticket', 'Name', 'Age'], axis=1)\n",
    "\n",
    "test['travelled_alone'] = test['travelled_alone'].astype(int)"
   ]
  },
  {
   "cell_type": "code",
   "execution_count": 10,
   "id": "fa25d7b1",
   "metadata": {},
   "outputs": [],
   "source": [
    "from sklearn.preprocessing import OneHotEncoder\n",
    "\n",
    "train.reset_index(drop=True, inplace=True)\n",
    "test.reset_index(drop=True, inplace=True)\n",
    "\n",
    "ohe1 = OneHotEncoder(sparse=False, drop='first')\n",
    "data_obj1 = ohe1.fit_transform(train[train.columns[train.dtypes=='object']])\n",
    "\n",
    "obj_df1 = pd.DataFrame(data_obj1,columns=ohe1.get_feature_names(train.columns[train.dtypes=='object']))\n",
    "\n",
    "train = pd.concat([train[train.columns[train.dtypes!='object']], obj_df1], axis=1)\n",
    "\n",
    "train = (train-train.min())/(train.max()-train.min())\n",
    "\n",
    "ohe2 = OneHotEncoder(sparse=False, drop='first')\n",
    "data_obj2 = ohe2.fit_transform(test[test.columns[test.dtypes=='object']])\n",
    "\n",
    "obj_df2 = pd.DataFrame(data_obj2,columns=ohe2.get_feature_names(test.columns[test.dtypes=='object']))\n",
    "\n",
    "test = pd.concat([test[test.columns[test.dtypes!='object']], obj_df2], axis=1)\n",
    "\n",
    "test = (test-test.min())/(test.max()-test.min())"
   ]
  },
  {
   "cell_type": "code",
   "execution_count": 11,
   "id": "b39bf082",
   "metadata": {},
   "outputs": [],
   "source": [
    "sex = [col for col in train.columns if 'Sex' in col]\n",
    "cabin = [col for col in train.columns if 'Cabin' in col]\n",
    "age_bins = [col for col in train.columns if 'age_bins' in col]\n",
    "title = [col for col in train.columns if 'Title' in col]\n",
    "\n",
    "features = ['Pclass', 'Fare', 'relative_size'] + sex + cabin + age_bins + title"
   ]
  },
  {
   "cell_type": "markdown",
   "id": "136f9f14",
   "metadata": {},
   "source": [
    "# Model"
   ]
  },
  {
   "cell_type": "code",
   "execution_count": 12,
   "id": "c98a70e4",
   "metadata": {},
   "outputs": [],
   "source": [
    "X_train = train[features]\n",
    "X_test = test[features]\n",
    "y_train = train['Survived']"
   ]
  },
  {
   "cell_type": "code",
   "execution_count": 20,
   "id": "d299cbfe",
   "metadata": {},
   "outputs": [
    {
     "name": "stdout",
     "output_type": "stream",
     "text": [
      "[20:28:04] WARNING: C:/Users/Administrator/workspace/xgboost-win64_release_1.5.1/src/learner.cc:1115: Starting in XGBoost 1.3.0, the default evaluation metric used with the objective 'binary:logistic' was changed from 'error' to 'logloss'. Explicitly set eval_metric if you'd like to restore the old behavior.\n"
     ]
    },
    {
     "name": "stderr",
     "output_type": "stream",
     "text": [
      "B:\\Anaconda\\lib\\site-packages\\xgboost\\sklearn.py:1224: UserWarning: The use of label encoder in XGBClassifier is deprecated and will be removed in a future release. To remove this warning, do the following: 1) Pass option use_label_encoder=False when constructing XGBClassifier object; and 2) Encode your labels (y) as integers starting with 0, i.e. 0, 1, 2, ..., [num_class - 1].\n",
      "  warnings.warn(label_encoder_deprecation_msg, UserWarning)\n"
     ]
    }
   ],
   "source": [
    "from xgboost import XGBClassifier\n",
    "xgbc = xgb.XGBClassifier(random_state = 1, learning_rate = 0.2)\n",
    "xgbc.fit(X_train, y_train)\n",
    "preds = xgbc.predict(X_test)"
   ]
  },
  {
   "cell_type": "code",
   "execution_count": 19,
   "id": "badd9d62",
   "metadata": {
    "scrolled": true
   },
   "outputs": [
    {
     "name": "stdout",
     "output_type": "stream",
     "text": [
      "Your submission was successfully saved!\n"
     ]
    }
   ],
   "source": [
    "test_data = pd.read_csv('submission.csv')\n",
    "submission = pd.DataFrame({'PassengerId': test_data.PassengerId, 'Survived': preds})\n",
    "submission = submission.astype(int)\n",
    "\n",
    "submission.to_csv('submission.csv', index = False)\n",
    "print(\"Your submission was successfully saved!\")"
   ]
  }
 ],
 "metadata": {
  "kernelspec": {
   "display_name": "Python 3",
   "language": "python",
   "name": "python3"
  },
  "language_info": {
   "codemirror_mode": {
    "name": "ipython",
    "version": 3
   },
   "file_extension": ".py",
   "mimetype": "text/x-python",
   "name": "python",
   "nbconvert_exporter": "python",
   "pygments_lexer": "ipython3",
   "version": "3.8.8"
  }
 },
 "nbformat": 4,
 "nbformat_minor": 5
}
