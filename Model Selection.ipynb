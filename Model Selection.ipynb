{
 "cells": [
  {
   "cell_type": "code",
   "execution_count": 1,
   "id": "db5a2ab6",
   "metadata": {},
   "outputs": [],
   "source": [
    "import pandas as pd\n",
    "import numpy as np\n",
    "import matplotlib.pyplot as plt\n",
    "import seaborn as sns\n",
    "plt.style.use('ggplot')\n",
    "%matplotlib inline"
   ]
  },
  {
   "cell_type": "code",
   "execution_count": 2,
   "id": "7dab7b04",
   "metadata": {},
   "outputs": [
    {
     "data": {
      "text/html": [
       "<div>\n",
       "<style scoped>\n",
       "    .dataframe tbody tr th:only-of-type {\n",
       "        vertical-align: middle;\n",
       "    }\n",
       "\n",
       "    .dataframe tbody tr th {\n",
       "        vertical-align: top;\n",
       "    }\n",
       "\n",
       "    .dataframe thead th {\n",
       "        text-align: right;\n",
       "    }\n",
       "</style>\n",
       "<table border=\"1\" class=\"dataframe\">\n",
       "  <thead>\n",
       "    <tr style=\"text-align: right;\">\n",
       "      <th></th>\n",
       "      <th>PassengerId</th>\n",
       "      <th>Survived</th>\n",
       "      <th>Pclass</th>\n",
       "      <th>Name</th>\n",
       "      <th>Sex</th>\n",
       "      <th>Age</th>\n",
       "      <th>SibSp</th>\n",
       "      <th>Parch</th>\n",
       "      <th>Ticket</th>\n",
       "      <th>Fare</th>\n",
       "      <th>Cabin</th>\n",
       "      <th>Embarked</th>\n",
       "    </tr>\n",
       "  </thead>\n",
       "  <tbody>\n",
       "    <tr>\n",
       "      <th>0</th>\n",
       "      <td>1</td>\n",
       "      <td>0</td>\n",
       "      <td>3</td>\n",
       "      <td>Braund, Mr. Owen Harris</td>\n",
       "      <td>male</td>\n",
       "      <td>22.0</td>\n",
       "      <td>1</td>\n",
       "      <td>0</td>\n",
       "      <td>A/5 21171</td>\n",
       "      <td>7.2500</td>\n",
       "      <td>NaN</td>\n",
       "      <td>S</td>\n",
       "    </tr>\n",
       "    <tr>\n",
       "      <th>1</th>\n",
       "      <td>2</td>\n",
       "      <td>1</td>\n",
       "      <td>1</td>\n",
       "      <td>Cumings, Mrs. John Bradley (Florence Briggs Th...</td>\n",
       "      <td>female</td>\n",
       "      <td>38.0</td>\n",
       "      <td>1</td>\n",
       "      <td>0</td>\n",
       "      <td>PC 17599</td>\n",
       "      <td>71.2833</td>\n",
       "      <td>C85</td>\n",
       "      <td>C</td>\n",
       "    </tr>\n",
       "    <tr>\n",
       "      <th>2</th>\n",
       "      <td>3</td>\n",
       "      <td>1</td>\n",
       "      <td>3</td>\n",
       "      <td>Heikkinen, Miss. Laina</td>\n",
       "      <td>female</td>\n",
       "      <td>26.0</td>\n",
       "      <td>0</td>\n",
       "      <td>0</td>\n",
       "      <td>STON/O2. 3101282</td>\n",
       "      <td>7.9250</td>\n",
       "      <td>NaN</td>\n",
       "      <td>S</td>\n",
       "    </tr>\n",
       "    <tr>\n",
       "      <th>3</th>\n",
       "      <td>4</td>\n",
       "      <td>1</td>\n",
       "      <td>1</td>\n",
       "      <td>Futrelle, Mrs. Jacques Heath (Lily May Peel)</td>\n",
       "      <td>female</td>\n",
       "      <td>35.0</td>\n",
       "      <td>1</td>\n",
       "      <td>0</td>\n",
       "      <td>113803</td>\n",
       "      <td>53.1000</td>\n",
       "      <td>C123</td>\n",
       "      <td>S</td>\n",
       "    </tr>\n",
       "    <tr>\n",
       "      <th>4</th>\n",
       "      <td>5</td>\n",
       "      <td>0</td>\n",
       "      <td>3</td>\n",
       "      <td>Allen, Mr. William Henry</td>\n",
       "      <td>male</td>\n",
       "      <td>35.0</td>\n",
       "      <td>0</td>\n",
       "      <td>0</td>\n",
       "      <td>373450</td>\n",
       "      <td>8.0500</td>\n",
       "      <td>NaN</td>\n",
       "      <td>S</td>\n",
       "    </tr>\n",
       "  </tbody>\n",
       "</table>\n",
       "</div>"
      ],
      "text/plain": [
       "   PassengerId  Survived  Pclass  \\\n",
       "0            1         0       3   \n",
       "1            2         1       1   \n",
       "2            3         1       3   \n",
       "3            4         1       1   \n",
       "4            5         0       3   \n",
       "\n",
       "                                                Name     Sex   Age  SibSp  \\\n",
       "0                            Braund, Mr. Owen Harris    male  22.0      1   \n",
       "1  Cumings, Mrs. John Bradley (Florence Briggs Th...  female  38.0      1   \n",
       "2                             Heikkinen, Miss. Laina  female  26.0      0   \n",
       "3       Futrelle, Mrs. Jacques Heath (Lily May Peel)  female  35.0      1   \n",
       "4                           Allen, Mr. William Henry    male  35.0      0   \n",
       "\n",
       "   Parch            Ticket     Fare Cabin Embarked  \n",
       "0      0         A/5 21171   7.2500   NaN        S  \n",
       "1      0          PC 17599  71.2833   C85        C  \n",
       "2      0  STON/O2. 3101282   7.9250   NaN        S  \n",
       "3      0            113803  53.1000  C123        S  \n",
       "4      0            373450   8.0500   NaN        S  "
      ]
     },
     "execution_count": 2,
     "metadata": {},
     "output_type": "execute_result"
    }
   ],
   "source": [
    "train = pd.read_csv('train.csv')\n",
    "train.head()"
   ]
  },
  {
   "cell_type": "markdown",
   "id": "50920284",
   "metadata": {},
   "source": [
    "# Name"
   ]
  },
  {
   "cell_type": "code",
   "execution_count": 3,
   "id": "c1491996",
   "metadata": {},
   "outputs": [],
   "source": [
    "import string\n",
    "def get_title(x):\n",
    "    name_parts = x.split(',')\n",
    "    title = name_parts[1].split('.')[0].strip()\n",
    "    return title"
   ]
  },
  {
   "cell_type": "code",
   "execution_count": 4,
   "id": "d2d23833",
   "metadata": {},
   "outputs": [],
   "source": [
    "train['Title'] = train['Name'].map(lambda x: get_title(x))\n",
    "\n",
    "train.loc[train['Title'] == 'Don', 'Title'] = 'Mr'\n",
    "train.loc[train['Title'] == 'Major', 'Title'] = 'Mr'\n",
    "train.loc[train['Title'] == 'Capt', 'Title'] = 'Mr'\n",
    "train.loc[train['Title'] == 'Jonkheer', 'Title'] = 'Mr'\n",
    "train.loc[train['Title'] == 'Rev', 'Title'] = 'Mr'\n",
    "train.loc[train['Title'] == 'Col', 'Title'] = 'Mr'\n",
    "train.loc[train['Title'] == 'Countess', 'Title'] = 'Mrs'\n",
    "train.loc[train['Title'] == 'Mme', 'Title'] = 'Mrs'\n",
    "train.loc[train['Title'] == 'Mlle', 'Title'] = 'Miss'\n",
    "train.loc[train['Title'] == 'Ms', 'Title'] = 'Miss'\n",
    "train.loc[(train['Title'] == 'Dr') & (train['Sex'] == 'male'), 'Title'] = 'Mr'\n",
    "train.loc[(train['Title'] == 'Dr') & (train['Sex'] == 'female'), 'Title'] = 'Mrs'\n",
    "train.loc[train['Title'] == 'the Countess', 'Title'] = 'Mrs'\n",
    "train.loc[train['Title'] == 'Lady', 'Title'] = 'Miss'\n",
    "train.loc[train['Title'] == 'Sir', 'Title'] = 'Mr'"
   ]
  },
  {
   "cell_type": "markdown",
   "id": "fd9155f1",
   "metadata": {},
   "source": [
    "# Age"
   ]
  },
  {
   "cell_type": "code",
   "execution_count": 5,
   "id": "6136e724",
   "metadata": {},
   "outputs": [],
   "source": [
    "train['Age'] = train['Age'].fillna(train['Age'].median())\n",
    "\n",
    "train.loc[train.Age <= 1.0, 'age_bins'] = '1s'\n",
    "train.loc[(train['Age'] > 1.0) & (train['Age'] <= 5.0), 'age_bins'] = '5s'\n",
    "train.loc[(train['Age'] > 5.0) & (train['Age'] <= 10.0), 'age_bins'] = '10s'\n",
    "train.loc[(train['Age'] > 10.0) & (train['Age'] <= 15.0), 'age_bins'] = '15s'\n",
    "train.loc[(train['Age'] > 15.0) & (train['Age'] <= 20.0), 'age_bins'] = '20s'\n",
    "train.loc[(train['Age'] > 20.0) & (train['Age'] <= 25.0), 'age_bins'] = '25s'\n",
    "train.loc[(train['Age'] > 25.0) & (train['Age'] <= 30.0), 'age_bins'] = '30s'\n",
    "train.loc[(train['Age'] > 30.0) & (train['Age'] <= 35.0), 'age_bins'] = '35s'\n",
    "train.loc[(train['Age'] > 35.0) & (train['Age'] <= 40.0), 'age_bins'] = '40s'\n",
    "train.loc[(train['Age'] > 40.0) & (train['Age'] <= 45.0), 'age_bins'] = '45s'\n",
    "train.loc[(train['Age'] > 45.0) & (train['Age'] <= 50.0), 'age_bins'] = '50s'\n",
    "train.loc[(train['Age'] > 50.0) & (train['Age'] <= 55.0), 'age_bins'] = '55s'\n",
    "train.loc[(train['Age'] > 55.0), 'age_bins'] = '60s'"
   ]
  },
  {
   "cell_type": "markdown",
   "id": "d078bdfd",
   "metadata": {},
   "source": [
    "# SibSp & Parch  "
   ]
  },
  {
   "cell_type": "code",
   "execution_count": 6,
   "id": "cc157cb1",
   "metadata": {},
   "outputs": [],
   "source": [
    "train['relative_size'] = train['SibSp'] + train['Parch']\n",
    "train.loc[train['relative_size'] > 0, 'travelled_alone'] = 0 #No\n",
    "train.loc[train['relative_size'] == 0, 'travelled_alone'] = 1 #Yes"
   ]
  },
  {
   "cell_type": "markdown",
   "id": "394023b8",
   "metadata": {},
   "source": [
    "# Cabin"
   ]
  },
  {
   "cell_type": "code",
   "execution_count": 7,
   "id": "12781907",
   "metadata": {},
   "outputs": [
    {
     "name": "stderr",
     "output_type": "stream",
     "text": [
      "B:\\Anaconda\\lib\\site-packages\\pandas\\core\\indexing.py:1637: SettingWithCopyWarning: \n",
      "A value is trying to be set on a copy of a slice from a DataFrame\n",
      "\n",
      "See the caveats in the documentation: https://pandas.pydata.org/pandas-docs/stable/user_guide/indexing.html#returning-a-view-versus-a-copy\n",
      "  self._setitem_single_block(indexer, value, name)\n"
     ]
    }
   ],
   "source": [
    "train['Cabin'].loc[~train['Cabin'].isnull()] = 1  \n",
    "train['Cabin'].loc[train['Cabin'].isnull()] = 0 "
   ]
  },
  {
   "cell_type": "markdown",
   "id": "f8c1df59",
   "metadata": {},
   "source": [
    "# Embarked"
   ]
  },
  {
   "cell_type": "code",
   "execution_count": 8,
   "id": "5d2434c7",
   "metadata": {},
   "outputs": [],
   "source": [
    "train['Embarked'] = train['Embarked'].fillna('S')"
   ]
  },
  {
   "cell_type": "markdown",
   "id": "e7b51df2",
   "metadata": {},
   "source": [
    "# Fare"
   ]
  },
  {
   "cell_type": "code",
   "execution_count": 9,
   "id": "1a27b660",
   "metadata": {},
   "outputs": [],
   "source": [
    "Q1 = train['Fare'].quantile(0.25)\n",
    "Q3 = train['Fare'].quantile(0.75)\n",
    "IQR = Q3 - Q1\n",
    "\n",
    "lower_lim = Q1 - 1.5 * IQR\n",
    "upper_lim = Q3 + 1.5 * IQR\n",
    "\n",
    "train = train.drop(train[(train['Fare'] > upper_lim)].index)"
   ]
  },
  {
   "cell_type": "markdown",
   "id": "739d24af",
   "metadata": {},
   "source": [
    "# Drop Columns"
   ]
  },
  {
   "cell_type": "code",
   "execution_count": 10,
   "id": "4eb4697c",
   "metadata": {},
   "outputs": [],
   "source": [
    "train = train.drop(['PassengerId', 'Ticket', 'Name', 'Age'], axis=1)\n",
    "\n",
    "train['travelled_alone'] = train['travelled_alone'].astype(int)\n",
    "\n",
    "train.reset_index(drop=True, inplace=True)\n",
    "\n",
    "from sklearn.preprocessing import OneHotEncoder\n",
    "\n",
    "ohe = OneHotEncoder(sparse=False, drop='first')\n",
    "data_obj = ohe.fit_transform(train[train.columns[train.dtypes=='object']])\n",
    "\n",
    "obj_df = pd.DataFrame(data_obj,columns=ohe.get_feature_names(train.columns[train.dtypes=='object']))\n",
    "cat_columns = obj_df.columns\n",
    "\n",
    "train = pd.concat([train[train.columns[train.dtypes!='object']], obj_df], axis=1)\n",
    "\n",
    "train = (train-train.min())/(train.max()-train.min())"
   ]
  },
  {
   "cell_type": "markdown",
   "id": "1e61a80c",
   "metadata": {},
   "source": [
    "# Feature Importances"
   ]
  },
  {
   "cell_type": "code",
   "execution_count": 11,
   "id": "8001d046",
   "metadata": {},
   "outputs": [
    {
     "data": {
      "image/png": "[encoded data removed]",
      "text/plain": [
       "<Figure size 432x288 with 1 Axes>"
      ]
     },
     "metadata": {
      "needs_background": "light"
     },
     "output_type": "display_data"
    }
   ],
   "source": [
    "from sklearn.ensemble import RandomForestRegressor\n",
    "\n",
    "X = train.drop('Survived', axis=1)\n",
    "y = train['Survived']\n",
    "\n",
    "model = RandomForestRegressor(random_state=1, max_depth=10)\n",
    "model.fit(X,y)\n",
    "\n",
    "features = X.columns\n",
    "importances = model.feature_importances_\n",
    "indices = np.argsort(importances)[-10:]  # top 10 features\n",
    "plt.title('Feature Importances')\n",
    "plt.barh(range(len(indices)), importances[indices], color='b', align='center')\n",
    "plt.yticks(range(len(indices)), [features[i] for i in indices])\n",
    "plt.xlabel('Relative Importance')\n",
    "plt.show()"
   ]
  },
  {
   "cell_type": "code",
   "execution_count": 12,
   "id": "86cd6cbe",
   "metadata": {
    "scrolled": true
   },
   "outputs": [
    {
     "data": {
      "text/html": [
       "<div>\n",
       "<style scoped>\n",
       "    .dataframe tbody tr th:only-of-type {\n",
       "        vertical-align: middle;\n",
       "    }\n",
       "\n",
       "    .dataframe tbody tr th {\n",
       "        vertical-align: top;\n",
       "    }\n",
       "\n",
       "    .dataframe thead th {\n",
       "        text-align: right;\n",
       "    }\n",
       "</style>\n",
       "<table border=\"1\" class=\"dataframe\">\n",
       "  <thead>\n",
       "    <tr style=\"text-align: right;\">\n",
       "      <th></th>\n",
       "      <th>Pclass</th>\n",
       "      <th>Fare</th>\n",
       "      <th>relative_size</th>\n",
       "      <th>Sex_male</th>\n",
       "      <th>Cabin_1</th>\n",
       "      <th>age_bins_15s</th>\n",
       "      <th>age_bins_1s</th>\n",
       "      <th>age_bins_20s</th>\n",
       "      <th>age_bins_25s</th>\n",
       "      <th>age_bins_30s</th>\n",
       "      <th>age_bins_35s</th>\n",
       "      <th>age_bins_40s</th>\n",
       "      <th>age_bins_45s</th>\n",
       "      <th>age_bins_50s</th>\n",
       "      <th>age_bins_55s</th>\n",
       "      <th>age_bins_5s</th>\n",
       "      <th>age_bins_60s</th>\n",
       "      <th>Title_Miss</th>\n",
       "      <th>Title_Mr</th>\n",
       "      <th>Title_Mrs</th>\n",
       "    </tr>\n",
       "  </thead>\n",
       "  <tbody>\n",
       "    <tr>\n",
       "      <th>0</th>\n",
       "      <td>1.0</td>\n",
       "      <td>0.111538</td>\n",
       "      <td>0.142857</td>\n",
       "      <td>1.0</td>\n",
       "      <td>0.0</td>\n",
       "      <td>0.0</td>\n",
       "      <td>0.0</td>\n",
       "      <td>0.0</td>\n",
       "      <td>1.0</td>\n",
       "      <td>0.0</td>\n",
       "      <td>0.0</td>\n",
       "      <td>0.0</td>\n",
       "      <td>0.0</td>\n",
       "      <td>0.0</td>\n",
       "      <td>0.0</td>\n",
       "      <td>0.0</td>\n",
       "      <td>0.0</td>\n",
       "      <td>0.0</td>\n",
       "      <td>1.0</td>\n",
       "      <td>0.0</td>\n",
       "    </tr>\n",
       "    <tr>\n",
       "      <th>1</th>\n",
       "      <td>1.0</td>\n",
       "      <td>0.121923</td>\n",
       "      <td>0.000000</td>\n",
       "      <td>0.0</td>\n",
       "      <td>0.0</td>\n",
       "      <td>0.0</td>\n",
       "      <td>0.0</td>\n",
       "      <td>0.0</td>\n",
       "      <td>0.0</td>\n",
       "      <td>1.0</td>\n",
       "      <td>0.0</td>\n",
       "      <td>0.0</td>\n",
       "      <td>0.0</td>\n",
       "      <td>0.0</td>\n",
       "      <td>0.0</td>\n",
       "      <td>0.0</td>\n",
       "      <td>0.0</td>\n",
       "      <td>1.0</td>\n",
       "      <td>0.0</td>\n",
       "      <td>0.0</td>\n",
       "    </tr>\n",
       "    <tr>\n",
       "      <th>2</th>\n",
       "      <td>0.0</td>\n",
       "      <td>0.816923</td>\n",
       "      <td>0.142857</td>\n",
       "      <td>0.0</td>\n",
       "      <td>1.0</td>\n",
       "      <td>0.0</td>\n",
       "      <td>0.0</td>\n",
       "      <td>0.0</td>\n",
       "      <td>0.0</td>\n",
       "      <td>0.0</td>\n",
       "      <td>1.0</td>\n",
       "      <td>0.0</td>\n",
       "      <td>0.0</td>\n",
       "      <td>0.0</td>\n",
       "      <td>0.0</td>\n",
       "      <td>0.0</td>\n",
       "      <td>0.0</td>\n",
       "      <td>0.0</td>\n",
       "      <td>0.0</td>\n",
       "      <td>1.0</td>\n",
       "    </tr>\n",
       "    <tr>\n",
       "      <th>3</th>\n",
       "      <td>1.0</td>\n",
       "      <td>0.123846</td>\n",
       "      <td>0.000000</td>\n",
       "      <td>1.0</td>\n",
       "      <td>0.0</td>\n",
       "      <td>0.0</td>\n",
       "      <td>0.0</td>\n",
       "      <td>0.0</td>\n",
       "      <td>0.0</td>\n",
       "      <td>0.0</td>\n",
       "      <td>1.0</td>\n",
       "      <td>0.0</td>\n",
       "      <td>0.0</td>\n",
       "      <td>0.0</td>\n",
       "      <td>0.0</td>\n",
       "      <td>0.0</td>\n",
       "      <td>0.0</td>\n",
       "      <td>0.0</td>\n",
       "      <td>1.0</td>\n",
       "      <td>0.0</td>\n",
       "    </tr>\n",
       "    <tr>\n",
       "      <th>4</th>\n",
       "      <td>1.0</td>\n",
       "      <td>0.130128</td>\n",
       "      <td>0.000000</td>\n",
       "      <td>1.0</td>\n",
       "      <td>0.0</td>\n",
       "      <td>0.0</td>\n",
       "      <td>0.0</td>\n",
       "      <td>0.0</td>\n",
       "      <td>0.0</td>\n",
       "      <td>1.0</td>\n",
       "      <td>0.0</td>\n",
       "      <td>0.0</td>\n",
       "      <td>0.0</td>\n",
       "      <td>0.0</td>\n",
       "      <td>0.0</td>\n",
       "      <td>0.0</td>\n",
       "      <td>0.0</td>\n",
       "      <td>0.0</td>\n",
       "      <td>1.0</td>\n",
       "      <td>0.0</td>\n",
       "    </tr>\n",
       "    <tr>\n",
       "      <th>...</th>\n",
       "      <td>...</td>\n",
       "      <td>...</td>\n",
       "      <td>...</td>\n",
       "      <td>...</td>\n",
       "      <td>...</td>\n",
       "      <td>...</td>\n",
       "      <td>...</td>\n",
       "      <td>...</td>\n",
       "      <td>...</td>\n",
       "      <td>...</td>\n",
       "      <td>...</td>\n",
       "      <td>...</td>\n",
       "      <td>...</td>\n",
       "      <td>...</td>\n",
       "      <td>...</td>\n",
       "      <td>...</td>\n",
       "      <td>...</td>\n",
       "      <td>...</td>\n",
       "      <td>...</td>\n",
       "      <td>...</td>\n",
       "    </tr>\n",
       "    <tr>\n",
       "      <th>770</th>\n",
       "      <td>0.5</td>\n",
       "      <td>0.200000</td>\n",
       "      <td>0.000000</td>\n",
       "      <td>1.0</td>\n",
       "      <td>0.0</td>\n",
       "      <td>0.0</td>\n",
       "      <td>0.0</td>\n",
       "      <td>0.0</td>\n",
       "      <td>0.0</td>\n",
       "      <td>1.0</td>\n",
       "      <td>0.0</td>\n",
       "      <td>0.0</td>\n",
       "      <td>0.0</td>\n",
       "      <td>0.0</td>\n",
       "      <td>0.0</td>\n",
       "      <td>0.0</td>\n",
       "      <td>0.0</td>\n",
       "      <td>0.0</td>\n",
       "      <td>1.0</td>\n",
       "      <td>0.0</td>\n",
       "    </tr>\n",
       "    <tr>\n",
       "      <th>771</th>\n",
       "      <td>0.0</td>\n",
       "      <td>0.461538</td>\n",
       "      <td>0.000000</td>\n",
       "      <td>0.0</td>\n",
       "      <td>1.0</td>\n",
       "      <td>0.0</td>\n",
       "      <td>0.0</td>\n",
       "      <td>1.0</td>\n",
       "      <td>0.0</td>\n",
       "      <td>0.0</td>\n",
       "      <td>0.0</td>\n",
       "      <td>0.0</td>\n",
       "      <td>0.0</td>\n",
       "      <td>0.0</td>\n",
       "      <td>0.0</td>\n",
       "      <td>0.0</td>\n",
       "      <td>0.0</td>\n",
       "      <td>1.0</td>\n",
       "      <td>0.0</td>\n",
       "      <td>0.0</td>\n",
       "    </tr>\n",
       "    <tr>\n",
       "      <th>772</th>\n",
       "      <td>1.0</td>\n",
       "      <td>0.360769</td>\n",
       "      <td>0.428571</td>\n",
       "      <td>0.0</td>\n",
       "      <td>0.0</td>\n",
       "      <td>0.0</td>\n",
       "      <td>0.0</td>\n",
       "      <td>0.0</td>\n",
       "      <td>0.0</td>\n",
       "      <td>1.0</td>\n",
       "      <td>0.0</td>\n",
       "      <td>0.0</td>\n",
       "      <td>0.0</td>\n",
       "      <td>0.0</td>\n",
       "      <td>0.0</td>\n",
       "      <td>0.0</td>\n",
       "      <td>0.0</td>\n",
       "      <td>1.0</td>\n",
       "      <td>0.0</td>\n",
       "      <td>0.0</td>\n",
       "    </tr>\n",
       "    <tr>\n",
       "      <th>773</th>\n",
       "      <td>0.0</td>\n",
       "      <td>0.461538</td>\n",
       "      <td>0.000000</td>\n",
       "      <td>1.0</td>\n",
       "      <td>1.0</td>\n",
       "      <td>0.0</td>\n",
       "      <td>0.0</td>\n",
       "      <td>0.0</td>\n",
       "      <td>0.0</td>\n",
       "      <td>1.0</td>\n",
       "      <td>0.0</td>\n",
       "      <td>0.0</td>\n",
       "      <td>0.0</td>\n",
       "      <td>0.0</td>\n",
       "      <td>0.0</td>\n",
       "      <td>0.0</td>\n",
       "      <td>0.0</td>\n",
       "      <td>0.0</td>\n",
       "      <td>1.0</td>\n",
       "      <td>0.0</td>\n",
       "    </tr>\n",
       "    <tr>\n",
       "      <th>774</th>\n",
       "      <td>1.0</td>\n",
       "      <td>0.119231</td>\n",
       "      <td>0.000000</td>\n",
       "      <td>1.0</td>\n",
       "      <td>0.0</td>\n",
       "      <td>0.0</td>\n",
       "      <td>0.0</td>\n",
       "      <td>0.0</td>\n",
       "      <td>0.0</td>\n",
       "      <td>0.0</td>\n",
       "      <td>1.0</td>\n",
       "      <td>0.0</td>\n",
       "      <td>0.0</td>\n",
       "      <td>0.0</td>\n",
       "      <td>0.0</td>\n",
       "      <td>0.0</td>\n",
       "      <td>0.0</td>\n",
       "      <td>0.0</td>\n",
       "      <td>1.0</td>\n",
       "      <td>0.0</td>\n",
       "    </tr>\n",
       "  </tbody>\n",
       "</table>\n",
       "<p>775 rows × 20 columns</p>\n",
       "</div>"
      ],
      "text/plain": [
       "     Pclass      Fare  relative_size  Sex_male  Cabin_1  age_bins_15s  \\\n",
       "0       1.0  0.111538       0.142857       1.0      0.0           0.0   \n",
       "1       1.0  0.121923       0.000000       0.0      0.0           0.0   \n",
       "2       0.0  0.816923       0.142857       0.0      1.0           0.0   \n",
       "3       1.0  0.123846       0.000000       1.0      0.0           0.0   \n",
       "4       1.0  0.130128       0.000000       1.0      0.0           0.0   \n",
       "..      ...       ...            ...       ...      ...           ...   \n",
       "770     0.5  0.200000       0.000000       1.0      0.0           0.0   \n",
       "771     0.0  0.461538       0.000000       0.0      1.0           0.0   \n",
       "772     1.0  0.360769       0.428571       0.0      0.0           0.0   \n",
       "773     0.0  0.461538       0.000000       1.0      1.0           0.0   \n",
       "774     1.0  0.119231       0.000000       1.0      0.0           0.0   \n",
       "\n",
       "     age_bins_1s  age_bins_20s  age_bins_25s  age_bins_30s  age_bins_35s  \\\n",
       "0            0.0           0.0           1.0           0.0           0.0   \n",
       "1            0.0           0.0           0.0           1.0           0.0   \n",
       "2            0.0           0.0           0.0           0.0           1.0   \n",
       "3            0.0           0.0           0.0           0.0           1.0   \n",
       "4            0.0           0.0           0.0           1.0           0.0   \n",
       "..           ...           ...           ...           ...           ...   \n",
       "770          0.0           0.0           0.0           1.0           0.0   \n",
       "771          0.0           1.0           0.0           0.0           0.0   \n",
       "772          0.0           0.0           0.0           1.0           0.0   \n",
       "773          0.0           0.0           0.0           1.0           0.0   \n",
       "774          0.0           0.0           0.0           0.0           1.0   \n",
       "\n",
       "     age_bins_40s  age_bins_45s  age_bins_50s  age_bins_55s  age_bins_5s  \\\n",
       "0             0.0           0.0           0.0           0.0          0.0   \n",
       "1             0.0           0.0           0.0           0.0          0.0   \n",
       "2             0.0           0.0           0.0           0.0          0.0   \n",
       "3             0.0           0.0           0.0           0.0          0.0   \n",
       "4             0.0           0.0           0.0           0.0          0.0   \n",
       "..            ...           ...           ...           ...          ...   \n",
       "770           0.0           0.0           0.0           0.0          0.0   \n",
       "771           0.0           0.0           0.0           0.0          0.0   \n",
       "772           0.0           0.0           0.0           0.0          0.0   \n",
       "773           0.0           0.0           0.0           0.0          0.0   \n",
       "774           0.0           0.0           0.0           0.0          0.0   \n",
       "\n",
       "     age_bins_60s  Title_Miss  Title_Mr  Title_Mrs  \n",
       "0             0.0         0.0       1.0        0.0  \n",
       "1             0.0         1.0       0.0        0.0  \n",
       "2             0.0         0.0       0.0        1.0  \n",
       "3             0.0         0.0       1.0        0.0  \n",
       "4             0.0         0.0       1.0        0.0  \n",
       "..            ...         ...       ...        ...  \n",
       "770           0.0         0.0       1.0        0.0  \n",
       "771           0.0         1.0       0.0        0.0  \n",
       "772           0.0         1.0       0.0        0.0  \n",
       "773           0.0         0.0       1.0        0.0  \n",
       "774           0.0         0.0       1.0        0.0  \n",
       "\n",
       "[775 rows x 20 columns]"
      ]
     },
     "execution_count": 12,
     "metadata": {},
     "output_type": "execute_result"
    }
   ],
   "source": [
    "sex = [col for col in train.columns if 'Sex' in col]\n",
    "cabin = [col for col in train.columns if 'Cabin' in col]\n",
    "age_bins = [col for col in train.columns if 'age_bins' in col]\n",
    "title = [col for col in train.columns if 'Title' in col]\n",
    "\n",
    "features = ['Pclass', 'Fare', 'relative_size'] + sex + cabin + age_bins + title\n",
    "train[features]"
   ]
  },
  {
   "cell_type": "markdown",
   "id": "9d48eef5",
   "metadata": {},
   "source": [
    "# Models"
   ]
  },
  {
   "cell_type": "code",
   "execution_count": 13,
   "id": "7bd404c7",
   "metadata": {},
   "outputs": [],
   "source": [
    "from sklearn.model_selection import train_test_split\n",
    "\n",
    "X = train[features]\n",
    "y = train['Survived']\n",
    "\n",
    "X_train, X_test, y_train, y_test = train_test_split(X, y, test_size = 0.2, random_state = 1)"
   ]
  },
  {
   "cell_type": "markdown",
   "id": "95dbde66",
   "metadata": {},
   "source": [
    "## Logistic Regression"
   ]
  },
  {
   "cell_type": "code",
   "execution_count": 14,
   "id": "c0e56f1a",
   "metadata": {},
   "outputs": [
    {
     "data": {
      "text/plain": [
       "LogisticRegression()"
      ]
     },
     "execution_count": 14,
     "metadata": {},
     "output_type": "execute_result"
    }
   ],
   "source": [
    "from sklearn.linear_model import LogisticRegression\n",
    "logmodel = LogisticRegression()\n",
    "logmodel.fit(X_train, y_train)"
   ]
  },
  {
   "cell_type": "code",
   "execution_count": 15,
   "id": "126c542d",
   "metadata": {},
   "outputs": [
    {
     "name": "stdout",
     "output_type": "stream",
     "text": [
      "Accuracy: 39.789%\n"
     ]
    }
   ],
   "source": [
    "from sklearn import metrics\n",
    "\n",
    "log_pred = logmodel.predict(X_test)\n",
    "log_acc = metrics.r2_score(y_test, log_pred)\n",
    "print('Accuracy:', str(format(log_acc*100, '.3f')) + '%')"
   ]
  },
  {
   "cell_type": "markdown",
   "id": "bc671f69",
   "metadata": {},
   "source": [
    "## KNN"
   ]
  },
  {
   "cell_type": "code",
   "execution_count": 16,
   "id": "a18493b1",
   "metadata": {},
   "outputs": [
    {
     "name": "stdout",
     "output_type": "stream",
     "text": [
      "Accuracy: 78.065%\n"
     ]
    }
   ],
   "source": [
    "from sklearn import neighbors\n",
    "from sklearn.neighbors import KNeighborsClassifier\n",
    "\n",
    "knn = neighbors.KNeighborsClassifier(n_neighbors = 5)\n",
    "knn.fit(X_train, y_train)\n",
    "\n",
    "knn_acc = knn.score(X_test, y_test)\n",
    "print('Accuracy:', str(format(knn_acc*100, '.3f')) + '%')"
   ]
  },
  {
   "cell_type": "code",
   "execution_count": 17,
   "id": "84922f9b",
   "metadata": {},
   "outputs": [
    {
     "data": {
      "image/png": "[encoded data removed]",
      "text/plain": [
       "<Figure size 432x288 with 1 Axes>"
      ]
     },
     "metadata": {
      "needs_background": "light"
     },
     "output_type": "display_data"
    }
   ],
   "source": [
    "neighbors = np.arange(1,11)\n",
    "train_r2 = np.empty(len(neighbors))\n",
    "test_r2 = np.empty(len(neighbors))\n",
    "\n",
    "for i,k in enumerate(neighbors):\n",
    "    knn = KNeighborsClassifier(n_neighbors = k)\n",
    "    knn.fit(X_train, y_train)\n",
    "    train_r2[i] = knn.score(X_train, y_train)\n",
    "    test_r2[i] = knn.score(X_test, y_test)\n",
    "\n",
    "plt.title('KNN Neighbor Number')\n",
    "plt.plot(neighbors, test_r2, label = 'Testing r2')\n",
    "plt.plot(neighbors, train_r2, label = 'Training r2')\n",
    "plt.legend()\n",
    "plt.xlabel('Number of Neighbors')\n",
    "plt.ylabel('R^2')\n",
    "plt.show()"
   ]
  },
  {
   "cell_type": "code",
   "execution_count": 18,
   "id": "ef660b2d",
   "metadata": {},
   "outputs": [
    {
     "data": {
      "image/png": "[encoded data removed]",
      "text/plain": [
       "<Figure size 432x288 with 1 Axes>"
      ]
     },
     "metadata": {
      "needs_background": "light"
     },
     "output_type": "display_data"
    }
   ],
   "source": [
    "weights_opt = ['uniform', 'distance']\n",
    "train_r2 = np.empty(len(weights_opt))\n",
    "test_r2 = np.empty(len(weights_opt))\n",
    "\n",
    "for i in range(len(weights_opt)):\n",
    "    knn = KNeighborsClassifier(n_neighbors = 4, weights = weights_opt[i])\n",
    "    knn.fit(X_train, y_train)\n",
    "    train_r2[i] = knn.score(X_train, y_train)\n",
    "    test_r2[i] = knn.score(X_test, y_test)\n",
    "\n",
    "plt.title('KNN Weights')\n",
    "plt.plot(weights_opt, test_r2, label = 'Testing r2')\n",
    "plt.plot(weights_opt, train_r2, label = 'Training r2')\n",
    "plt.legend()\n",
    "plt.xlabel('Weights')\n",
    "plt.ylabel('r2')\n",
    "plt.show()"
   ]
  },
  {
   "cell_type": "code",
   "execution_count": 19,
   "id": "6f12833c",
   "metadata": {},
   "outputs": [
    {
     "data": {
      "image/png": "[encoded data removed]",
      "text/plain": [
       "<Figure size 432x288 with 1 Axes>"
      ]
     },
     "metadata": {
      "needs_background": "light"
     },
     "output_type": "display_data"
    }
   ],
   "source": [
    "alg = ['auto', 'ball_tree', 'kd_tree', 'brute']\n",
    "train_r2 = np.empty(len(alg))\n",
    "test_r2 = np.empty(len(alg))\n",
    "\n",
    "for i in range(len(alg)):\n",
    "    knn = KNeighborsClassifier(n_neighbors = 4, weights = 'distance', algorithm = alg[i])\n",
    "    knn.fit(X_train, y_train)\n",
    "    train_r2[i] = knn.score(X_train, y_train)\n",
    "    test_r2[i] = knn.score(X_test, y_test)\n",
    "\n",
    "plt.title('KNN Algorithm')\n",
    "plt.plot(alg, test_r2, label = 'Testing r2')\n",
    "plt.plot(alg, train_r2, label = 'Training r2')\n",
    "plt.legend()\n",
    "plt.xlabel('Algorithm')\n",
    "plt.ylabel('R^2')\n",
    "plt.show()"
   ]
  },
  {
   "cell_type": "code",
   "execution_count": 20,
   "id": "b0cff4aa",
   "metadata": {},
   "outputs": [
    {
     "data": {
      "image/png": "[encoded data removed]",
      "text/plain": [
       "<Figure size 432x288 with 1 Axes>"
      ]
     },
     "metadata": {
      "needs_background": "light"
     },
     "output_type": "display_data"
    }
   ],
   "source": [
    "leaf = np.arange(1,100)\n",
    "train_r2 = np.empty(len(leaf))\n",
    "test_r2 = np.empty(len(leaf))\n",
    "\n",
    "for i,k in enumerate(leaf):\n",
    "    knn = KNeighborsClassifier(n_neighbors = 4, weights = 'distance', algorithm = 'ball_tree', leaf_size = k)\n",
    "    knn.fit(X_train, y_train)\n",
    "    train_r2[i] = knn.score(X_train, y_train)\n",
    "    test_r2[i] = knn.score(X_test, y_test)\n",
    "\n",
    "plt.title('KNN Ball Tree Leaf Size')\n",
    "plt.plot(leaf, test_r2, label = 'Testing r2')\n",
    "plt.plot(leaf, train_r2, label = 'Training r2')\n",
    "plt.legend()\n",
    "plt.xlabel('Leaf Size')\n",
    "plt.ylabel('R^2')\n",
    "plt.show()"
   ]
  },
  {
   "cell_type": "code",
   "execution_count": 21,
   "id": "b25a6cb0",
   "metadata": {},
   "outputs": [
    {
     "data": {
      "image/png": "[encoded data removed]",
      "text/plain": [
       "<Figure size 432x288 with 1 Axes>"
      ]
     },
     "metadata": {
      "needs_background": "light"
     },
     "output_type": "display_data"
    }
   ],
   "source": [
    "leaf = np.arange(1,100)\n",
    "train_r2 = np.empty(len(leaf))\n",
    "test_r2 = np.empty(len(leaf))\n",
    "\n",
    "for i,k in enumerate(leaf):\n",
    "    knn = KNeighborsClassifier(n_neighbors = 4, weights = 'distance', algorithm = 'kd_tree', leaf_size = k)\n",
    "    knn.fit(X_train, y_train)\n",
    "    train_r2[i] = knn.score(X_train, y_train)\n",
    "    test_r2[i] = knn.score(X_test, y_test)\n",
    "\n",
    "plt.title('KNN KD Tree Leaf Size')\n",
    "plt.plot(leaf, test_r2, label = 'Testing r2')\n",
    "plt.plot(leaf, train_r2, label = 'Training r2')\n",
    "plt.legend()\n",
    "plt.xlabel('Leaf Size')\n",
    "plt.ylabel('R^2')\n",
    "plt.show()"
   ]
  },
  {
   "cell_type": "code",
   "execution_count": 22,
   "id": "44776480",
   "metadata": {},
   "outputs": [
    {
     "data": {
      "image/png": "[encoded data removed]",
      "text/plain": [
       "<Figure size 432x288 with 1 Axes>"
      ]
     },
     "metadata": {
      "needs_background": "light"
     },
     "output_type": "display_data"
    }
   ],
   "source": [
    "p = np.arange(1,5)\n",
    "train_r2 = np.empty(len(p))\n",
    "test_r2 = np.empty(len(p))\n",
    "\n",
    "for i,k in enumerate(p):\n",
    "    knn = KNeighborsClassifier(n_neighbors = 4, weights = 'distance', algorithm = 'auto', p = k)\n",
    "    knn.fit(X_train, y_train)\n",
    "    train_r2[i] = knn.score(X_train, y_train)\n",
    "    test_r2[i] = knn.score(X_test, y_test)\n",
    "\n",
    "plt.title('KNN Power Parameter')\n",
    "plt.plot(p, test_r2, label = 'Testing r2')\n",
    "plt.plot(p, train_r2, label = 'Training r2')\n",
    "plt.legend()\n",
    "plt.xlabel('Power Parameter')\n",
    "plt.ylabel('R^2')\n",
    "plt.show()"
   ]
  },
  {
   "cell_type": "code",
   "execution_count": 23,
   "id": "f2103bfa",
   "metadata": {},
   "outputs": [
    {
     "name": "stdout",
     "output_type": "stream",
     "text": [
      "Accuracy: 80.000%\n"
     ]
    }
   ],
   "source": [
    "from sklearn import neighbors\n",
    "from sklearn.neighbors import KNeighborsClassifier\n",
    "\n",
    "knn = neighbors.KNeighborsClassifier(n_neighbors = 9, weights = 'distance', algorithm = 'kd_tree', p = 1)\n",
    "knn.fit(X_train, y_train)\n",
    "\n",
    "knn_acc = knn.score(X_test, y_test)\n",
    "print('Accuracy:', str(format(knn_acc*100, '.3f')) + '%')"
   ]
  },
  {
   "cell_type": "markdown",
   "id": "657c4a82",
   "metadata": {},
   "source": [
    "## Naive Bayes"
   ]
  },
  {
   "cell_type": "code",
   "execution_count": 24,
   "id": "4dd03308",
   "metadata": {},
   "outputs": [
    {
     "name": "stdout",
     "output_type": "stream",
     "text": [
      "Accuracy: 76.129%\n"
     ]
    }
   ],
   "source": [
    "from sklearn.naive_bayes import GaussianNB\n",
    "from sklearn.metrics import accuracy_score\n",
    "\n",
    "nb = GaussianNB()\n",
    "nb.fit(X_train, y_train)\n",
    "\n",
    "nb_pred = nb.predict(X_test)\n",
    "\n",
    "nb_acc = accuracy_score(y_test, nb_pred)\n",
    "print('Accuracy:', str(format(nb_acc*100, '.3f')) + '%')"
   ]
  },
  {
   "cell_type": "markdown",
   "id": "0581180b",
   "metadata": {},
   "source": [
    "## SVM"
   ]
  },
  {
   "cell_type": "code",
   "execution_count": 25,
   "id": "c5f3f5a1",
   "metadata": {},
   "outputs": [
    {
     "name": "stdout",
     "output_type": "stream",
     "text": [
      "Accuracy: 24.593%\n"
     ]
    }
   ],
   "source": [
    "from sklearn.svm import SVR\n",
    "\n",
    "svr = SVR(kernel = 'linear', C = 0.1, gamma = 1)\n",
    "svr.fit(X_train, y_train)\n",
    "\n",
    "svr_pred = svr.predict(X_test)\n",
    "\n",
    "svr_acc = metrics.r2_score(y_test, svr_pred)\n",
    "print('Accuracy:', str(format(svr_acc*100, '.3f')) + '%')"
   ]
  },
  {
   "cell_type": "code",
   "execution_count": 26,
   "id": "7c2a8ee2",
   "metadata": {
    "scrolled": false
   },
   "outputs": [
    {
     "data": {
      "image/png": "[encoded data removed]",
      "text/plain": [
       "<Figure size 432x288 with 1 Axes>"
      ]
     },
     "metadata": {
      "needs_background": "light"
     },
     "output_type": "display_data"
    }
   ],
   "source": [
    "kernel = ['linear', 'poly', 'rbf']\n",
    "svm_r2 = []\n",
    "for i in range(3):\n",
    "    svr = SVR(kernel = kernel[i], C = 0.1, gamma = 1)\n",
    "    svr.fit(X_train, y_train)\n",
    "    svr_pred = svr.predict(X_test)\n",
    "    svm_r2.append(100*metrics.r2_score(y_test, svr_pred))\n",
    "\n",
    "plt.bar(kernel,svm_r2)\n",
    "plt.title('SVM Kernel')\n",
    "plt.xlabel('Kernel')\n",
    "plt.ylabel('R^2')\n",
    "plt.show()"
   ]
  },
  {
   "cell_type": "code",
   "execution_count": 27,
   "id": "7b59c711",
   "metadata": {},
   "outputs": [
    {
     "name": "stdout",
     "output_type": "stream",
     "text": [
      "Accuracy: 39.654%\n"
     ]
    }
   ],
   "source": [
    "svr = SVR(kernel = 'poly', C = 0.1, gamma = 1)\n",
    "svr.fit(X_train, y_train)\n",
    "\n",
    "svr_pred = svr.predict(X_test)\n",
    "\n",
    "svr_acc = metrics.r2_score(y_test, svr_pred)\n",
    "print('Accuracy:', str(format(svr_acc*100, '.3f')) + '%')"
   ]
  },
  {
   "cell_type": "code",
   "execution_count": 28,
   "id": "327454ef",
   "metadata": {},
   "outputs": [
    {
     "name": "stdout",
     "output_type": "stream",
     "text": [
      "Accuracy: -78.412%\n"
     ]
    }
   ],
   "source": [
    "svr = SVR(kernel = 'poly', C = 100, gamma = 1)\n",
    "svr.fit(X_train, y_train)\n",
    "\n",
    "svr_pred = svr.predict(X_test)\n",
    "\n",
    "svr_acc = metrics.r2_score(y_test, svr_pred)\n",
    "print('Accuracy:', str(format(svr_acc*100, '.3f')) + '%')"
   ]
  },
  {
   "cell_type": "markdown",
   "id": "1d72fc00",
   "metadata": {},
   "source": [
    "# Model Selection"
   ]
  },
  {
   "cell_type": "code",
   "execution_count": 29,
   "id": "ce800373",
   "metadata": {},
   "outputs": [
    {
     "data": {
      "image/png": "[encoded data removed]",
      "text/plain": [
       "<Figure size 432x288 with 1 Axes>"
      ]
     },
     "metadata": {
      "needs_background": "light"
     },
     "output_type": "display_data"
    }
   ],
   "source": [
    "model = ['Logistic Regression', 'KNN', 'Naive Bayes', 'SVM']\n",
    "acc = [39.79, 80.0, 76.13, 39.654]\n",
    "\n",
    "plt.bar(model, acc)\n",
    "plt.title('Supervised Learning Models')\n",
    "plt.xlabel('Models')\n",
    "plt.ylabel('R^2')\n",
    "plt.show()"
   ]
  },
  {
   "cell_type": "markdown",
   "id": "2cdb3471",
   "metadata": {},
   "source": [
    "## KNN and Naive Bayes had the highest R^2 values"
   ]
  }
 ],
 "metadata": {
  "kernelspec": {
   "display_name": "Python 3",
   "language": "python",
   "name": "python3"
  },
  "language_info": {
   "codemirror_mode": {
    "name": "ipython",
    "version": 3
   },
   "file_extension": ".py",
   "mimetype": "text/x-python",
   "name": "python",
   "nbconvert_exporter": "python",
   "pygments_lexer": "ipython3",
   "version": "3.8.8"
  }
 },
 "nbformat": 4,
 "nbformat_minor": 5
}
